{
 "cells": [
  {
   "cell_type": "code",
   "execution_count": 1,
   "metadata": {},
   "outputs": [],
   "source": [
    "from langchain.chat_models import ChatOpenAI\n",
    "from langchain.prompts import ChatPromptTemplate\n",
    "from langchain.callbacks import StreamingStdOutCallbackHandler\n",
    "\n",
    "chat = ChatOpenAI(\n",
    "    temperature=0.1,\n",
    "    streaming=True,\n",
    "    callbacks=[\n",
    "        StreamingStdOutCallbackHandler(),\n",
    "    ],\n",
    ")\n",
    "\n",
    "haiku_prompt = ChatPromptTemplate.from_messages(\n",
    "    [\n",
    "        (\"system\", \"You are a Haiku writing expert.\"),\n",
    "        (\"human\", \"Write a concise, impactful haiku about {language}.\"),\n",
    "    ]\n",
    ")\n",
    "\n",
    "haiku_chain = haiku_prompt | chat"
   ]
  },
  {
   "cell_type": "code",
   "execution_count": 2,
   "metadata": {},
   "outputs": [
    {
     "name": "stdout",
     "output_type": "stream",
     "text": [
      "Python slithers by,\n",
      "Code flows like a river's song,\n",
      "Power in its bite.Your Haiku beautifully captures the essence of Python programming language. Python is known for its simplicity and readability, making it a popular choice for beginners and experienced programmers alike. The imagery of a snake slithering by and code flowing like a river's song is both vivid and evocative. The mention of power in its bite hints at the capabilities and versatility of Python. Well done!"
     ]
    },
    {
     "data": {
      "text/plain": [
       "AIMessageChunk(content=\"Your Haiku beautifully captures the essence of Python programming language. Python is known for its simplicity and readability, making it a popular choice for beginners and experienced programmers alike. The imagery of a snake slithering by and code flowing like a river's song is both vivid and evocative. The mention of power in its bite hints at the capabilities and versatility of Python. Well done!\")"
      ]
     },
     "execution_count": 2,
     "metadata": {},
     "output_type": "execute_result"
    }
   ],
   "source": [
    "poetry_haiku_prompt = ChatPromptTemplate.from_messages(\n",
    "    [\n",
    "        (\n",
    "            \"system\",\n",
    "            \"You know how to write Haiku about programming languages, and you have an awesome knack for explaining Haiku to people who don't know it. It shouldn't be too mechanical, and it's also difficult if it's too unnatural.\",\n",
    "        ),\n",
    "        (\"human\", \"{haiku}\"),\n",
    "    ]\n",
    ")\n",
    "\n",
    "poetry_chain = poetry_haiku_prompt | chat\n",
    "\n",
    "final_chain = {\"haiku\": haiku_chain} | poetry_chain\n",
    "\n",
    "final_chain.invoke({\"language\": \"python\"})"
   ]
  }
 ],
 "metadata": {
  "kernelspec": {
   "display_name": "env",
   "language": "python",
   "name": "python3"
  },
  "language_info": {
   "codemirror_mode": {
    "name": "ipython",
    "version": 3
   },
   "file_extension": ".py",
   "mimetype": "text/x-python",
   "name": "python",
   "nbconvert_exporter": "python",
   "pygments_lexer": "ipython3",
   "version": "3.11.6"
  }
 },
 "nbformat": 4,
 "nbformat_minor": 2
}
